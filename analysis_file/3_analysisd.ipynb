{
 "cells": [
  {
   "cell_type": "code",
   "execution_count": 21,
   "metadata": {},
   "outputs": [],
   "source": [
    "## Continue Data Processing ##"
   ]
  },
  {
   "cell_type": "code",
   "execution_count": 22,
   "metadata": {},
   "outputs": [],
   "source": [
    "import numpy as np\n",
    "import seaborn as sns\n",
    "import matplotlib.pyplot as plt\n",
    "import pandas as pd \n",
    "from sklearn import preprocessing\n",
    "from sklearn.model_selection import train_test_split\n",
    "from sklearn.metrics import accuracy_score, classification_report, confusion_matrix\n",
    "from sklearn import metrics\n",
    "from sklearn.model_selection import cross_val_score\n",
    "from sklearn.linear_model import LogisticRegression\n",
    "from sklearn.svm import SVC\n",
    "from sklearn.ensemble import RandomForestClassifier\n",
    "from sklearn.neighbors import KNeighborsClassifier\n",
    "from sklearn.tree import DecisionTreeClassifier\n",
    "from sklearn.metrics import accuracy_score, classification_report, confusion_matrix"
   ]
  },
  {
   "cell_type": "code",
   "execution_count": 23,
   "metadata": {},
   "outputs": [],
   "source": [
    "df = pd.read_csv('C:/Final_project/Final_project/analysis_file/cleaned_data.csv', index_col=0)"
   ]
  },
  {
   "cell_type": "code",
   "execution_count": 24,
   "metadata": {},
   "outputs": [
    {
     "data": {
      "text/plain": [
       "(1359, 12)"
      ]
     },
     "execution_count": 24,
     "metadata": {},
     "output_type": "execute_result"
    }
   ],
   "source": [
    "df.shape"
   ]
  },
  {
   "cell_type": "code",
   "execution_count": 25,
   "metadata": {},
   "outputs": [],
   "source": [
    "df['quality'] = df['quality'].map({'Non-Quality': 0, 'Quality': 1, })"
   ]
  },
  {
   "cell_type": "code",
   "execution_count": 26,
   "metadata": {},
   "outputs": [
    {
     "data": {
      "text/plain": [
       "array([0, 1], dtype=int64)"
      ]
     },
     "execution_count": 26,
     "metadata": {},
     "output_type": "execute_result"
    }
   ],
   "source": [
    "df['quality'].unique()"
   ]
  },
  {
   "cell_type": "code",
   "execution_count": 27,
   "metadata": {},
   "outputs": [
    {
     "data": {
      "text/plain": [
       "quality\n",
       "1    719\n",
       "0    640\n",
       "Name: count, dtype: int64"
      ]
     },
     "execution_count": 27,
     "metadata": {},
     "output_type": "execute_result"
    }
   ],
   "source": [
    "df['quality'].value_counts()"
   ]
  },
  {
   "cell_type": "code",
   "execution_count": 28,
   "metadata": {},
   "outputs": [],
   "source": [
    "df.rename(columns = {'fixed acidity': 'fixed_acidity', 'volatile acidity': 'volatile_acidity',\n",
    "                    'citric acid': 'citric_acid', 'residual sugar': 'residual_sugar',\n",
    "                    'chlorides': 'chlorides', 'free sulfur dioxide': 'free_sulfur_dioxide',\n",
    "                    'total sulfur dioxide': 'total_sulfur_dioxide'}, inplace = True)"
   ]
  },
  {
   "cell_type": "code",
   "execution_count": 29,
   "metadata": {},
   "outputs": [
    {
     "data": {
      "text/html": [
       "<div>\n",
       "<style scoped>\n",
       "    .dataframe tbody tr th:only-of-type {\n",
       "        vertical-align: middle;\n",
       "    }\n",
       "\n",
       "    .dataframe tbody tr th {\n",
       "        vertical-align: top;\n",
       "    }\n",
       "\n",
       "    .dataframe thead th {\n",
       "        text-align: right;\n",
       "    }\n",
       "</style>\n",
       "<table border=\"1\" class=\"dataframe\">\n",
       "  <thead>\n",
       "    <tr style=\"text-align: right;\">\n",
       "      <th></th>\n",
       "      <th>fixed_acidity</th>\n",
       "      <th>volatile_acidity</th>\n",
       "      <th>citric_acid</th>\n",
       "      <th>residual_sugar</th>\n",
       "      <th>chlorides</th>\n",
       "      <th>free_sulfur_dioxide</th>\n",
       "      <th>total_sulfur_dioxide</th>\n",
       "      <th>density</th>\n",
       "      <th>pH</th>\n",
       "      <th>sulphates</th>\n",
       "      <th>alcohol</th>\n",
       "      <th>quality</th>\n",
       "    </tr>\n",
       "  </thead>\n",
       "  <tbody>\n",
       "    <tr>\n",
       "      <th>0</th>\n",
       "      <td>7.4</td>\n",
       "      <td>0.70</td>\n",
       "      <td>0.00</td>\n",
       "      <td>1.9</td>\n",
       "      <td>0.076</td>\n",
       "      <td>11.0</td>\n",
       "      <td>34.0</td>\n",
       "      <td>0.9978</td>\n",
       "      <td>3.51</td>\n",
       "      <td>0.56</td>\n",
       "      <td>9.4</td>\n",
       "      <td>0</td>\n",
       "    </tr>\n",
       "    <tr>\n",
       "      <th>1</th>\n",
       "      <td>7.8</td>\n",
       "      <td>0.88</td>\n",
       "      <td>0.00</td>\n",
       "      <td>2.6</td>\n",
       "      <td>0.098</td>\n",
       "      <td>25.0</td>\n",
       "      <td>67.0</td>\n",
       "      <td>0.9968</td>\n",
       "      <td>3.20</td>\n",
       "      <td>0.68</td>\n",
       "      <td>9.8</td>\n",
       "      <td>0</td>\n",
       "    </tr>\n",
       "    <tr>\n",
       "      <th>2</th>\n",
       "      <td>7.8</td>\n",
       "      <td>0.76</td>\n",
       "      <td>0.04</td>\n",
       "      <td>2.3</td>\n",
       "      <td>0.092</td>\n",
       "      <td>15.0</td>\n",
       "      <td>54.0</td>\n",
       "      <td>0.9970</td>\n",
       "      <td>3.26</td>\n",
       "      <td>0.65</td>\n",
       "      <td>9.8</td>\n",
       "      <td>0</td>\n",
       "    </tr>\n",
       "    <tr>\n",
       "      <th>3</th>\n",
       "      <td>11.2</td>\n",
       "      <td>0.28</td>\n",
       "      <td>0.56</td>\n",
       "      <td>1.9</td>\n",
       "      <td>0.075</td>\n",
       "      <td>17.0</td>\n",
       "      <td>60.0</td>\n",
       "      <td>0.9980</td>\n",
       "      <td>3.16</td>\n",
       "      <td>0.58</td>\n",
       "      <td>9.8</td>\n",
       "      <td>1</td>\n",
       "    </tr>\n",
       "    <tr>\n",
       "      <th>5</th>\n",
       "      <td>7.4</td>\n",
       "      <td>0.66</td>\n",
       "      <td>0.00</td>\n",
       "      <td>1.8</td>\n",
       "      <td>0.075</td>\n",
       "      <td>13.0</td>\n",
       "      <td>40.0</td>\n",
       "      <td>0.9978</td>\n",
       "      <td>3.51</td>\n",
       "      <td>0.56</td>\n",
       "      <td>9.4</td>\n",
       "      <td>0</td>\n",
       "    </tr>\n",
       "  </tbody>\n",
       "</table>\n",
       "</div>"
      ],
      "text/plain": [
       "   fixed_acidity  volatile_acidity  citric_acid  residual_sugar  chlorides  \\\n",
       "0            7.4              0.70         0.00             1.9      0.076   \n",
       "1            7.8              0.88         0.00             2.6      0.098   \n",
       "2            7.8              0.76         0.04             2.3      0.092   \n",
       "3           11.2              0.28         0.56             1.9      0.075   \n",
       "5            7.4              0.66         0.00             1.8      0.075   \n",
       "\n",
       "   free_sulfur_dioxide  total_sulfur_dioxide  density    pH  sulphates  \\\n",
       "0                 11.0                  34.0   0.9978  3.51       0.56   \n",
       "1                 25.0                  67.0   0.9968  3.20       0.68   \n",
       "2                 15.0                  54.0   0.9970  3.26       0.65   \n",
       "3                 17.0                  60.0   0.9980  3.16       0.58   \n",
       "5                 13.0                  40.0   0.9978  3.51       0.56   \n",
       "\n",
       "   alcohol  quality  \n",
       "0      9.4        0  \n",
       "1      9.8        0  \n",
       "2      9.8        0  \n",
       "3      9.8        1  \n",
       "5      9.4        0  "
      ]
     },
     "execution_count": 29,
     "metadata": {},
     "output_type": "execute_result"
    }
   ],
   "source": [
    "df.head()"
   ]
  },
  {
   "cell_type": "markdown",
   "metadata": {},
   "source": [
    "Burada bağımlı değişkenimiz \"quality\" yi, bağımsız değişkenlerimiz olarak diğer sutünları alıyoruz. Bu kimyasal değişkenlerin hepsi şarabın içinde olmak zorunda olduğu için ilk etapta herhangi bir features çıkarmadım. Quality yi kaliteli-kalitesiz olarak ayırdığımız için  durum üzerinden sınıflandırma yapmamız daha uygun. "
   ]
  },
  {
   "cell_type": "markdown",
   "metadata": {},
   "source": [
    "Bu modelleri uygulayıp hangisinin iyi sonuç verdiğine baktım.\n",
    "Logistic Regression (Lojistik Regresyon):\n",
    "- Basit ve yeterince hızlıdır.\n",
    "- Veri setinde doğrusal bir sınıflandırma problemi varsa ve featureslar arasındaki ilişkilerin doğrusal olduğunu       düşünüyorsak kullanışlıdır.\n",
    "\n",
    "Support Vector Classifier (Destek Vektör Sınıflandırıcısı - SVC):\n",
    "- Veri setinde karmaşık sınırlar varsa  veya yüksek boyutlu özellik uzayları varsa.\n",
    "- SVM modelleri genellikle iyi genelleme yapar.\n",
    "\n",
    "Random Forest (Rastgele Orman):\n",
    "- Çeşitli özellik türleri ve yüksek boyutlu veri setleri için güçlüdür.\n",
    "- Overfitting'e karşı dayanıklıdır ve otomatik olarak özellik önemini değerlendirir.\n",
    "K-Nearest Neighbors (KNN):\n",
    "- Veri setiniz küçük ve sınıflar birbirine yakınsa kullanışlıdır.\n",
    "- Ancak boyutluluk sorunu nedeniyle yüksek boyutlu veri setlerinde performans sorunları ortaya çıkabilir.\n",
    "\n",
    "Decision Trees (Karar Ağaçları):\n",
    "- Basit ve yorumlanabilir bir model arıyorsanız kullanışlıdır.\n",
    "- Ancak tek başına eğilimli olduğu overfitting sorunuyla başa çıkmak için ensemble yöntemleriyle (örneğin, Random Forest) birleştirilebilir."
   ]
  },
  {
   "cell_type": "code",
   "execution_count": 30,
   "metadata": {},
   "outputs": [],
   "source": [
    "X = df.drop(['quality'], axis=1)  # bağımsız değişkenler \n",
    "y = df['quality']                 # bağımlı(hedef) değişken"
   ]
  },
  {
   "cell_type": "markdown",
   "metadata": {},
   "source": [
    "# Modelin başarısını arttırmak ve aşırı etkisi olan verilerin etkisini azaltmak için verilerimizi normalize etmeliyiz."
   ]
  },
  {
   "cell_type": "code",
   "execution_count": 31,
   "metadata": {},
   "outputs": [],
   "source": [
    "# Normalize the data\n",
    "X = preprocessing.StandardScaler().fit(X).transform(X)"
   ]
  },
  {
   "cell_type": "markdown",
   "metadata": {},
   "source": [
    "# Veri setimizi train ve test olarak bölüyoruz."
   ]
  },
  {
   "cell_type": "code",
   "execution_count": 32,
   "metadata": {},
   "outputs": [
    {
     "name": "stdout",
     "output_type": "stream",
     "text": [
      "Train set: (1087, 11) (1087,)\n",
      "Test set: (272, 11) (272,)\n"
     ]
    }
   ],
   "source": [
    "X_train, X_test, y_train, y_test = train_test_split(X, y, test_size=0.2, random_state=20)\n",
    "print ('Train set:', X_train.shape,  y_train.shape)\n",
    "print ('Test set:', X_test.shape,  y_test.shape)"
   ]
  },
  {
   "cell_type": "markdown",
   "metadata": {},
   "source": [
    "# Models"
   ]
  },
  {
   "cell_type": "code",
   "execution_count": 33,
   "metadata": {},
   "outputs": [
    {
     "name": "stdout",
     "output_type": "stream",
     "text": [
      "Results for Logistic Regression:\n",
      "Accuracy: 0.7647\n",
      "Classification Report:\n",
      "               precision    recall  f1-score   support\n",
      "\n",
      "           0       0.72      0.78      0.75       124\n",
      "           1       0.80      0.75      0.78       148\n",
      "\n",
      "    accuracy                           0.76       272\n",
      "   macro avg       0.76      0.77      0.76       272\n",
      "weighted avg       0.77      0.76      0.77       272\n",
      "\n",
      "Confusion Matrix:\n",
      " [[ 97  27]\n",
      " [ 37 111]]\n",
      "\n",
      "\n",
      "Results for SVC:\n",
      "Accuracy: 0.7831\n",
      "Classification Report:\n",
      "               precision    recall  f1-score   support\n",
      "\n",
      "           0       0.74      0.81      0.77       124\n",
      "           1       0.82      0.76      0.79       148\n",
      "\n",
      "    accuracy                           0.78       272\n",
      "   macro avg       0.78      0.78      0.78       272\n",
      "weighted avg       0.79      0.78      0.78       272\n",
      "\n",
      "Confusion Matrix:\n",
      " [[100  24]\n",
      " [ 35 113]]\n",
      "\n",
      "\n",
      "Results for Random Forest:\n",
      "Accuracy: 0.7426\n",
      "Classification Report:\n",
      "               precision    recall  f1-score   support\n",
      "\n",
      "           0       0.70      0.75      0.73       124\n",
      "           1       0.78      0.74      0.76       148\n",
      "\n",
      "    accuracy                           0.74       272\n",
      "   macro avg       0.74      0.74      0.74       272\n",
      "weighted avg       0.74      0.74      0.74       272\n",
      "\n",
      "Confusion Matrix:\n",
      " [[ 93  31]\n",
      " [ 39 109]]\n",
      "\n",
      "\n",
      "Results for KNN:\n",
      "Accuracy: 0.7537\n",
      "Classification Report:\n",
      "               precision    recall  f1-score   support\n",
      "\n",
      "           0       0.72      0.74      0.73       124\n",
      "           1       0.78      0.76      0.77       148\n",
      "\n",
      "    accuracy                           0.75       272\n",
      "   macro avg       0.75      0.75      0.75       272\n",
      "weighted avg       0.75      0.75      0.75       272\n",
      "\n",
      "Confusion Matrix:\n",
      " [[ 92  32]\n",
      " [ 35 113]]\n",
      "\n",
      "\n",
      "Results for Decision Trees:\n",
      "Accuracy: 0.6765\n",
      "Classification Report:\n",
      "               precision    recall  f1-score   support\n",
      "\n",
      "           0       0.64      0.67      0.65       124\n",
      "           1       0.71      0.68      0.70       148\n",
      "\n",
      "    accuracy                           0.68       272\n",
      "   macro avg       0.67      0.68      0.68       272\n",
      "weighted avg       0.68      0.68      0.68       272\n",
      "\n",
      "Confusion Matrix:\n",
      " [[ 83  41]\n",
      " [ 47 101]]\n",
      "\n",
      "\n"
     ]
    }
   ],
   "source": [
    "from sklearn.linear_model import LogisticRegression\n",
    "from sklearn.svm import SVC\n",
    "from sklearn.ensemble import RandomForestClassifier\n",
    "from sklearn.neighbors import KNeighborsClassifier\n",
    "from sklearn.tree import DecisionTreeClassifier\n",
    "from sklearn.metrics import accuracy_score, classification_report, confusion_matrix\n",
    "\n",
    "# Logistic Regression\n",
    "logreg_model = LogisticRegression()\n",
    "logreg_model.fit(X_train, y_train)\n",
    "logreg_predictions = logreg_model.predict(X_test)\n",
    "\n",
    "# Support Vector Classifier\n",
    "svc_model = SVC()\n",
    "svc_model.fit(X_train, y_train)\n",
    "svc_predictions = svc_model.predict(X_test)\n",
    "\n",
    "# Random Forest\n",
    "rf_model = RandomForestClassifier()\n",
    "rf_model.fit(X_train, y_train)\n",
    "rf_predictions = rf_model.predict(X_test)\n",
    "\n",
    "# K-Nearest Neighbors\n",
    "knn_model = KNeighborsClassifier()\n",
    "knn_model.fit(X_train, y_train)\n",
    "knn_predictions = knn_model.predict(X_test)\n",
    "\n",
    "# Decision Trees\n",
    "dt_model = DecisionTreeClassifier()\n",
    "dt_model.fit(X_train, y_train)\n",
    "dt_predictions = dt_model.predict(X_test)\n",
    "\n",
    "# Modelllerin karşılaştırılması ve değerlendirme metrikleri uygulanması\n",
    "models = [logreg_model, svc_model, rf_model, knn_model, dt_model]\n",
    "predictions = [logreg_predictions, svc_predictions, rf_predictions, knn_predictions, dt_predictions]\n",
    "model_names = ['Logistic Regression', 'SVC', 'Random Forest', 'KNN', 'Decision Trees']\n",
    "\n",
    "for model, preds, name in zip(models, predictions, model_names):\n",
    "    accuracy = accuracy_score(y_test, preds)\n",
    "    report = classification_report(y_test, preds)\n",
    "    matrix = confusion_matrix(y_test, preds)\n",
    "    \n",
    "    print(f\"Results for {name}:\")\n",
    "    print(f\"Accuracy: {accuracy:.4f}\")\n",
    "    print(\"Classification Report:\\n\", report)\n",
    "    print(\"Confusion Matrix:\\n\", matrix)\n",
    "    print(\"\\n\")"
   ]
  },
  {
   "cell_type": "code",
   "execution_count": 34,
   "metadata": {},
   "outputs": [
    {
     "data": {
      "image/png": "[encoded data removed]",
      "text/plain": [
       "<Figure size 1200x800 with 10 Axes>"
      ]
     },
     "metadata": {},
     "output_type": "display_data"
    }
   ],
   "source": [
    "pastel_cmap = sns.color_palette(\"pastel\", as_cmap=True)\n",
    "confusion_matrices = []\n",
    "\n",
    "# (model eğitimi ve tahminleri)\n",
    "\n",
    "for preds, name in zip(predictions, model_names):\n",
    "    matrix = confusion_matrix(y_test, preds)\n",
    "    confusion_matrices.append((name, matrix))\n",
    "\n",
    "# Her model için karışıklık matrisi ısı haritalarını çizelim\n",
    "plt.figure(figsize=(12, 8))\n",
    "for i, (model_name, cm) in enumerate(confusion_matrices, 1):\n",
    "    plt.subplot(3, 4, i)\n",
    "    plt.title(f'Confusion Matrix - {model_name}')\n",
    "    sns.heatmap(cm, annot=True, fmt='d', cmap=pastel_cmap )\n",
    "    plt.xlabel('Predicted Label')\n",
    "    plt.ylabel('True Label')\n",
    "plt.tight_layout()\n",
    "plt.show()"
   ]
  },
  {
   "cell_type": "markdown",
   "metadata": {},
   "source": [
    "En başarılı model Support Vector Classifier çıktı."
   ]
  },
  {
   "cell_type": "markdown",
   "metadata": {},
   "source": [
    "Confusion matrixe baktığımızda model gerçek veri üzerinden 124 tane kalitesiz şarabın  100 tanesini kalitesiz yani doğru tahmin etmiş. 148 tane kaliteli sınıfından da 113 tanesini kaliteli yani  doğru tahmin etmiş. Accuracy değeri de diğer modellerden daha yüksek."
   ]
  },
  {
   "cell_type": "markdown",
   "metadata": {},
   "source": [
    "Şimdi de sadece quality değişkeni üzerinde en fazla pozitif etkiye sahip olduğunu düşündüğümüz alcohol değişkeniyle kalite arasında model oluşturuyoruz ve sonuçtan da elde ettiğimiz üzere SVC modelin başarısı düşsede yine de en başarılı model SVC oluyor.\n",
    "- Genel olarak diğer modellerinde başarısı düşmüş."
   ]
  },
  {
   "cell_type": "code",
   "execution_count": 38,
   "metadata": {},
   "outputs": [
    {
     "name": "stdout",
     "output_type": "stream",
     "text": [
      "Results for Logistic Regression:\n",
      "Accuracy: 0.4963\n",
      "Classification Report:\n",
      "               precision    recall  f1-score   support\n",
      "\n",
      "           0       0.49      0.49      0.49       135\n",
      "           1       0.50      0.50      0.50       137\n",
      "\n",
      "    accuracy                           0.50       272\n",
      "   macro avg       0.50      0.50      0.50       272\n",
      "weighted avg       0.50      0.50      0.50       272\n",
      "\n",
      "Confusion Matrix:\n",
      " [[66 69]\n",
      " [68 69]]\n",
      "\n",
      "\n",
      "Results for SVC:\n",
      "Accuracy: 0.7059\n",
      "Classification Report:\n",
      "               precision    recall  f1-score   support\n",
      "\n",
      "           0       0.72      0.66      0.69       135\n",
      "           1       0.69      0.75      0.72       137\n",
      "\n",
      "    accuracy                           0.71       272\n",
      "   macro avg       0.71      0.71      0.71       272\n",
      "weighted avg       0.71      0.71      0.71       272\n",
      "\n",
      "Confusion Matrix:\n",
      " [[ 89  46]\n",
      " [ 34 103]]\n",
      "\n",
      "\n",
      "Results for Random Forest:\n",
      "Accuracy: 0.6801\n",
      "Classification Report:\n",
      "               precision    recall  f1-score   support\n",
      "\n",
      "           0       0.70      0.61      0.66       135\n",
      "           1       0.66      0.74      0.70       137\n",
      "\n",
      "    accuracy                           0.68       272\n",
      "   macro avg       0.68      0.68      0.68       272\n",
      "weighted avg       0.68      0.68      0.68       272\n",
      "\n",
      "Confusion Matrix:\n",
      " [[ 83  52]\n",
      " [ 35 102]]\n",
      "\n",
      "\n",
      "Results for KNN:\n",
      "Accuracy: 0.6875\n",
      "Classification Report:\n",
      "               precision    recall  f1-score   support\n",
      "\n",
      "           0       0.67      0.74      0.70       135\n",
      "           1       0.71      0.64      0.67       137\n",
      "\n",
      "    accuracy                           0.69       272\n",
      "   macro avg       0.69      0.69      0.69       272\n",
      "weighted avg       0.69      0.69      0.69       272\n",
      "\n",
      "Confusion Matrix:\n",
      " [[100  35]\n",
      " [ 50  87]]\n",
      "\n",
      "\n",
      "Results for Decision Trees:\n",
      "Accuracy: 0.6801\n",
      "Classification Report:\n",
      "               precision    recall  f1-score   support\n",
      "\n",
      "           0       0.70      0.61      0.66       135\n",
      "           1       0.66      0.74      0.70       137\n",
      "\n",
      "    accuracy                           0.68       272\n",
      "   macro avg       0.68      0.68      0.68       272\n",
      "weighted avg       0.68      0.68      0.68       272\n",
      "\n",
      "Confusion Matrix:\n",
      " [[ 83  52]\n",
      " [ 35 102]]\n",
      "\n",
      "\n"
     ]
    }
   ],
   "source": [
    "from sklearn.model_selection import train_test_split\n",
    "from sklearn.linear_model import LogisticRegression\n",
    "from sklearn.metrics import accuracy_score, classification_report, confusion_matrix\n",
    "\n",
    "x = df['alcohol'].values.reshape(-1, 1)\n",
    "y = df['quality'].values\n",
    "\n",
    "# Veriyi train ve test setlere ayıralım\n",
    "X_train, X_test, y_train, y_test = train_test_split(x, y, test_size=0.2, random_state=42)\n",
    "\n",
    "# Logistic Regression modelini oluşturalım\n",
    "logreg_model_alcohol = LogisticRegression()\n",
    "logreg_model_alcohol.fit(X_train, y_train)\n",
    "alcohol_predictions = logreg_model_alcohol.predict(X_test)\n",
    "# Support Vector Classifier\n",
    "svc_model = SVC()\n",
    "svc_model.fit(X_train, y_train)\n",
    "svc_predictions = svc_model.predict(X_test)\n",
    "\n",
    "# Random Forest\n",
    "rf_model = RandomForestClassifier()\n",
    "rf_model.fit(X_train, y_train)\n",
    "rf_predictions = rf_model.predict(X_test)\n",
    "\n",
    "# K-Nearest Neighbors\n",
    "knn_model = KNeighborsClassifier()\n",
    "knn_model.fit(X_train, y_train)\n",
    "knn_predictions = knn_model.predict(X_test)\n",
    "\n",
    "# Decision Trees\n",
    "dt_model = DecisionTreeClassifier()\n",
    "dt_model.fit(X_train, y_train)\n",
    "dt_predictions = dt_model.predict(X_test)\n",
    "\n",
    "# Modelllerin karşılaştırılması ve değerlendirme metrikleri uygulanması\n",
    "models = [logreg_model, svc_model, rf_model, knn_model, dt_model]\n",
    "predictions = [logreg_predictions, svc_predictions, rf_predictions, knn_predictions, dt_predictions]\n",
    "model_names = ['Logistic Regression', 'SVC', 'Random Forest', 'KNN', 'Decision Trees']\n",
    "\n",
    "for model, preds, name in zip(models, predictions, model_names):\n",
    "    accuracy = accuracy_score(y_test, preds)\n",
    "    report = classification_report(y_test, preds)\n",
    "    matrix = confusion_matrix(y_test, preds)\n",
    "    \n",
    "    print(f\"Results for {name}:\")\n",
    "    print(f\"Accuracy: {accuracy:.4f}\")\n",
    "    print(\"Classification Report:\\n\", report)\n",
    "    print(\"Confusion Matrix:\\n\", matrix)\n",
    "    print(\"\\n\")\n",
    "\n"
   ]
  }
 ],
 "metadata": {
  "kernelspec": {
   "display_name": "env",
   "language": "python",
   "name": "python3"
  },
  "language_info": {
   "codemirror_mode": {
    "name": "ipython",
    "version": 3
   },
   "file_extension": ".py",
   "mimetype": "text/x-python",
   "name": "python",
   "nbconvert_exporter": "python",
   "pygments_lexer": "ipython3",
   "version": "3.9.18"
  }
 },
 "nbformat": 4,
 "nbformat_minor": 2
}
